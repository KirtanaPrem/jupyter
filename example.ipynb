import pandas as pd
import numpy as np
import matplotlib.pyplot as plt
import seaborn as sns

# Load the dataset
file_path = "student-mat.csv"  # Update with the correct file path
df = pd.read_csv(file_path)

# Display the first few rows
display(df.head())

# Data Exploration
print("\nMissing Values:")
print(df.isnull().sum())

print("\nData Types:")
print(df.dtypes)

print("\nDataset Shape:", df.shape)

# Data Cleaning
# Handling missing values (if any)
df.fillna(df.median(numeric_only=True), inplace=True)
# Removing duplicate rows
df.drop_duplicates(inplace=True)

# Data Analysis
avg_score = df['G3'].mean()
print("\nAverage Final Score (G3):", avg_score)

students_above_15 = df[df['G3'] > 15].shape[0]
print("Students scoring above 15 in final grade (G3):", students_above_15)

correlation = df[['studytime', 'G3']].corr()
print("\nCorrelation between Study Time and Final Grade:")
print(correlation)

avg_score_by_gender = df.groupby('sex')['G3'].mean()
print("\nAverage Final Grade by Gender:")
print(avg_score_by_gender)

# Data Visualization
plt.figure(figsize=(10, 5))
sns.histplot(df['G3'], bins=10, kde=True)
plt.title("Distribution of Final Grades (G3)")
plt.xlabel("Final Grade (G3)")
plt.ylabel("Frequency")
plt.show()

plt.figure(figsize=(8, 5))
sns.scatterplot(x=df['studytime'], y=df['G3'])
plt.title("Study Time vs Final Grade")
plt.xlabel("Study Time (hours per week)")
plt.ylabel("Final Grade (G3)")
plt.show()

plt.figure(figsize=(8, 5))
sns.barplot(x=avg_score_by_gender.index, y=avg_score_by_gender.values)
plt.title("Average Final Grade by Gender")
plt.xlabel("Gender")
plt.ylabel("Average Final Grade (G3)")
plt.show()

