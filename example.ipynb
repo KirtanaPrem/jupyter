import pandas as pd
import numpy as np
import matplotlib.pyplot as plt
import seaborn as sns

# 1. Load the Dataset
df = pd.read_csv("student-mat.csv")

# Display the first few rows
print("Dataset Preview:")
print(df.head())

# 2. Data Exploration
print("\nMissing Values:")
print(df.isnull().sum())

print("\nData Types:")
print(df.dtypes)

print("\nDataset Shape:", df.shape)

# 3. Data Cleaning
# Handle missing values (if any)
df = df.fillna(df.median())

# Remove duplicate rows
df = df.drop_duplicates()

# 4. Data Analysis
# 4.1 Average Final Grade (G3)
avg_G3 = df["G3"].mean()
print("\nAverage Final Grade (G3):", avg_G3)

# 4.2 Count of Students Scoring Above 15 in G3
high_scorers = df[df["G3"] > 15].shape[0]
print("\nNumber of students scoring above 15 in G3:", high_scorers)

# 4.3 Correlation between Study Time and Final Grade
correlation = df[["studytime", "G3"].corr().iloc[0, 1]
print("\nCorrelation between study time and final grade (G3):", correlation)

# 4.4 Average Final Grade by Gender
gender_avg = df.groupby("sex")["G3"].mean()
print("\nAverage Final Grade by Gender:")
print(gender_avg)

# 5. Data Visualization
# 5.1 Histogram of Final Grades
plt.figure(figsize=(8, 5))
sns.histplot(df["G3"], bins=10, kde=True)
plt.title("Distribution of Final Grades (G3)")
plt.xlabel("Final Grade (G3)")
plt.ylabel("Count")
plt.show()

# 5.2 Scatter Plot between Study Time and Final Grade
plt.figure(figsize=(8, 5))
sns.scatterplot(x=df["studytime"], y=df["G3"])
plt.title("Study Time vs Final Grade (G3)")
plt.xlabel("Study Time (hours per week)")
plt.ylabel("Final Grade (G3)")
plt.show()

# 5.3 Bar Chart for Average G3 by Gender
plt.figure(figsize=(8, 5))
sns.barplot(x=gender_avg.index, y=gender_avg.values)
plt.title("Average Final Grade by Gender")
plt.xlabel("Gender")
plt.ylabel("Average Final Grade (G3)")
plt.show()
